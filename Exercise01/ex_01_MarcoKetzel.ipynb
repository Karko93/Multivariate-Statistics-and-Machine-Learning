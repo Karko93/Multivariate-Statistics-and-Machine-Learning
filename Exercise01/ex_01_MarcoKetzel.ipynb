{
 "cells": [
  {
   "cell_type": "markdown",
   "metadata": {},
   "source": [
    "\n",
    "## Multivariate Statistik und Machine Learning: Assignment 1\n",
    "\n",
    "The exercises on this sheet are graded by a maximum of 10 points. You will be asked to implement several functions.\n",
    "\n",
    "Team work is not allowed. Everybody implements his/her own code. Discussing issues with others is fine, sharing code with others is not. \n",
    "\n",
    "do we need this? -> If you use any code fragments found on the Internet, make sure you reference them properly."
   ]
  },
  {
   "cell_type": "markdown",
   "metadata": {},
   "source": [
    "### Exercise 1 -- Multivariate normal distribution  (4 Points)\n",
    "\n",
    "We know from the Lecture 2, the probability density function for multivariate normal is:\n",
    "\n",
    "$f(x) = \\frac{1}{\\sqrt{(2 \\pi)^d \\det \\Sigma}} \\exp\\left( -\\frac{1}{2} (x - \\mu)^T \\Sigma^{-1} (x - \\mu) \\right) ,$ \n",
    "    \n",
    "where $\\mu$ is the mean, $\\Sigma$ the covariance matrix, and $d$ is the dimension of the space where $x$ takes values."
   ]
  },
  {
   "cell_type": "markdown",
   "metadata": {},
   "source": [
    "#### 1.1 Implement function `multivariate_normal` that computes the probability of a point $x$ from the mean vector and the covariance matrix. Visualize then the following two bivariate normal distributions: \n",
    "\n",
    "(i) $ \\mu_1 =  \n",
    "\\begin{bmatrix}\n",
    "1 \\\\\n",
    "0\n",
    "\\end{bmatrix}, \\Sigma_1 =  \n",
    "\\begin{bmatrix}\n",
    "1 & 0 \\\\\n",
    "0 & 2\n",
    "\\end{bmatrix} $\n",
    "\n",
    "(ii) $ \\mu_2 = \n",
    "\\begin{bmatrix}\n",
    "0 \\\\\n",
    "-1\n",
    "\\end{bmatrix},\n",
    "\\Sigma_2 =  \n",
    "\\begin{bmatrix}\n",
    "9 & -2.5 \\\\\n",
    "-2.5 & 1 \n",
    "\\end{bmatrix} $\n",
    "\n",
    "You cannot use already implemented functions for `multivariate_normal` in python libraries but you can test if your implementation is correct using `scipy.stats.multivariate_normal`. \n",
    "Other helpful functions that you might need: `numpy.linalg`, `numpy.ndarray.T`"
   ]
  },
  {
   "cell_type": "code",
   "execution_count": 649,
   "metadata": {},
   "outputs": [],
   "source": [
    "import numpy as np\n",
    "import matplotlib.pyplot as plt\n",
    "from utils import *\n",
    "#import utils\n",
    "import scipy.stats\n",
    "%matplotlib inline\n",
    "\n",
    "mu_1 = np.array([1,0])\n",
    "cov_1 = np.array([[1,0],[0,2]])\n",
    "\n",
    "mu_2 = np.array([0,-1])\n",
    "cov_2 = np.array([[9,-2.5],[-2.5,1]])\n"
   ]
  },
  {
   "cell_type": "code",
   "execution_count": 650,
   "metadata": {},
   "outputs": [],
   "source": [
    "def multivariate_normal(x,mean, covariance):\n",
    "    \"\"\"pdf of the multivariate normal distribution.\"\"\"\n",
    "    \n",
    "    #source: from a script in Exercise 1 of the course Computational Intelligence Lab FS2020\n",
    "    dim = mean.shape[0]\n",
    "    factor=1/((2*np.pi)**(dim/2)*np.linalg.det(covariance)**(0.5))\n",
    "    p = factor*np.exp(-0.5*np.sum(np.multiply(np.matmul((x-mean),np.linalg.inv(covariance)),(x-mean)), axis=0))\n",
    "\n",
    "    return p"
   ]
  },
  {
   "cell_type": "code",
   "execution_count": 651,
   "metadata": {},
   "outputs": [
    {
     "name": "stdout",
     "output_type": "stream",
     "text": [
      "0.11253953951963826\n",
      "0.11253953951963827\n",
      "\n",
      " 0.006276453109602912 0.006276453109602913\n"
     ]
    }
   ],
   "source": [
    "x = np.array([1,0])\n",
    "\n",
    "prob = multivariate_normal(x,mu_1, cov_1)\n",
    "print(prob)\n",
    "lib_prob = scipy.stats.multivariate_normal.pdf(x, mu_1, cov_1)\n",
    "print(lib_prob)\n",
    "\n",
    "print('\\n',multivariate_normal(x,mu_2, cov_2),scipy.stats.multivariate_normal.pdf(x, mu_2, cov_2))"
   ]
  },
  {
   "cell_type": "code",
   "execution_count": 652,
   "metadata": {},
   "outputs": [
    {
     "data": {
      "image/png": "[encoded data removed]",
      "text/plain": [
       "<Figure size 432x288 with 2 Axes>"
      ]
     },
     "metadata": {
      "needs_background": "light"
     },
     "output_type": "display_data"
    },
    {
     "data": {
      "image/png": "[encoded data removed]",
      "text/plain": [
       "<Figure size 432x288 with 2 Axes>"
      ]
     },
     "metadata": {
      "needs_background": "light"
     },
     "output_type": "display_data"
    }
   ],
   "source": [
    "# visualize the two normal distribution\n",
    "plot_2d_normal(mu_1,cov_1,multivariate_normal)\n",
    "plot_2d_normal(mu_2,cov_2,multivariate_normal)"
   ]
  },
  {
   "cell_type": "markdown",
   "metadata": {},
   "source": [
    "#### 1.2 Implement a function `marginalize_multivariate_normal` which receives as input the mean vector and the covariance matrix of a multivariate normal distribution, and the index of the dimension over which we want to compute the marginal distribution; it returns the mean and the variance of the univariate marginal distribution. Implement the function `univariate_normal` that computes the probability of a univariate normal distribution. Get the mean and variance for dimension 0 marginal of normal distribution $1$, and for dimension 1 marginal of normal distribution $2$ "
   ]
  },
  {
   "cell_type": "code",
   "execution_count": 653,
   "metadata": {},
   "outputs": [],
   "source": [
    "def marginalize_multivariate_normal(mean,cov,dim):\n",
    "    \"\"\"extract univariate normal distribution for dimension dim\"\"\"\n",
    "\n",
    "    mean_univariate = mean[dim]\n",
    "    var = cov[dim,dim]\n",
    "    \n",
    "    return mean_univariate,var\n",
    "    "
   ]
  },
  {
   "cell_type": "code",
   "execution_count": 654,
   "metadata": {},
   "outputs": [
    {
     "name": "stdout",
     "output_type": "stream",
     "text": [
      "(1, 1) \n",
      " (0, 2)\n"
     ]
    }
   ],
   "source": [
    "print(marginalize_multivariate_normal(mu_1, cov_1,0),'\\n',marginalize_multivariate_normal(mu_1, cov_1,1))"
   ]
  },
  {
   "cell_type": "code",
   "execution_count": 655,
   "metadata": {},
   "outputs": [],
   "source": [
    "def univariate_normal(x, mean, variance):\n",
    "    \"\"\"pdf of the univariate normal distribution.\"\"\"\n",
    "    # source: scipy documentation\n",
    "    p = scipy.stats.norm(mean, variance).pdf(x)\n",
    "\n",
    "    return p"
   ]
  },
  {
   "cell_type": "code",
   "execution_count": 656,
   "metadata": {},
   "outputs": [
    {
     "name": "stdout",
     "output_type": "stream",
     "text": [
      "1 1\n",
      "-1 1.0\n",
      "0.3989422804014327\n",
      "0.3989422804014327\n"
     ]
    }
   ],
   "source": [
    "mu_1_marginal, var_1_marginal = marginalize_multivariate_normal(mu_1,cov_1,0)\n",
    "mu_2_marginal, var_2_marginal = marginalize_multivariate_normal(mu_2,cov_2,1)\n",
    "\n",
    "print(mu_1_marginal, var_1_marginal)\n",
    "print(mu_2_marginal, var_2_marginal)\n",
    "print(univariate_normal(mu_1_marginal,mu_1_marginal, var_1_marginal))\n",
    "print(univariate_normal(mu_2_marginal,mu_2_marginal, var_2_marginal))"
   ]
  },
  {
   "cell_type": "code",
   "execution_count": 657,
   "metadata": {},
   "outputs": [
    {
     "data": {
      "image/png": "[encoded data removed]",
      "text/plain": [
       "<Figure size 432x288 with 1 Axes>"
      ]
     },
     "metadata": {
      "needs_background": "light"
     },
     "output_type": "display_data"
    },
    {
     "data": {
      "image/png": "[encoded data removed]",
      "text/plain": [
       "<Figure size 432x288 with 1 Axes>"
      ]
     },
     "metadata": {
      "needs_background": "light"
     },
     "output_type": "display_data"
    }
   ],
   "source": [
    "plot_1d_normal(mu_1_marginal,var_1_marginal,univariate_normal)\n",
    "plot_1d_normal(mu_2_marginal,var_2_marginal,univariate_normal)"
   ]
  },
  {
   "cell_type": "markdown",
   "metadata": {},
   "source": [
    "### 1.3 One way to view a gaussian distribution in 2D is using contour plot. In the following figure, we can see the contour plots of distributions with covariance and mean written below. Please complete the following cell and match the figures with correct values."
   ]
  },
  {
   "cell_type": "markdown",
   "metadata": {},
   "source": [
    "<img src=\"h.png\">"
   ]
  },
  {
   "cell_type": "code",
   "execution_count": 658,
   "metadata": {},
   "outputs": [],
   "source": [
    "a1, b1, c1 = 1 , -1 , 3\n",
    "a2 , b2 , c2 = 1, -1.5 , 3\n",
    "cov1 = np.array([[a1,b1],[b1,c1]])\n",
    "cov2 = np.array([[a2,b2],[b2,c2]])"
   ]
  },
  {
   "cell_type": "code",
   "execution_count": 659,
   "metadata": {},
   "outputs": [],
   "source": [
    "import numpy as np\n",
    "import matplotlib.pyplot as plt\n",
    "from matplotlib import cm\n",
    "from mpl_toolkits.mplot3d import Axes3D\n",
    "\n",
    "# Our 2-dimensional distribution will be over variables X and Y\n",
    "N = 40\n",
    "X = np.linspace(-3, 3, N)\n",
    "Y = np.linspace(-3, 3, N)\n",
    "X, Y = np.meshgrid(X, Y)\n",
    "\n",
    "# Mean vector and covariance matrix\n",
    "mu = np.array([0., 0.])\n",
    "Sigma = cov1\n",
    "Sigma2 = cov2\n",
    "\n",
    "# Pack X and Y into a single 3-dimensional array\n",
    "pos = np.empty(X.shape + (2,))\n",
    "pos[:, :, 0] = X\n",
    "pos[:, :, 1] = Y\n",
    "\n",
    "\n",
    "def multivariate_gaussian(pos, mu, Sigma):\n",
    "    \"\"\"Return the multivariate Gaussian distribution on array pos.\"\"\"\n",
    "\n",
    "    n = mu.shape[0]\n",
    "    Sigma_det = np.linalg.det(Sigma)\n",
    "    Sigma_inv = np.linalg.inv(Sigma)\n",
    "    N = np.sqrt((2*np.pi)**n * Sigma_det)\n",
    "    # This einsum call calculates (x-mu)T.Sigma-1.(x-mu) in a vectorized\n",
    "    # way across all the input variables.\n",
    "    fac = np.einsum('...k,kl,...l->...', pos-mu, Sigma_inv, pos-mu)\n",
    "\n",
    "    return np.exp(-fac / 2) / N\n"
   ]
  },
  {
   "cell_type": "code",
   "execution_count": 660,
   "metadata": {},
   "outputs": [
    {
     "data": {
      "image/png": "[encoded data removed]",
      "text/plain": [
       "<Figure size 432x288 with 2 Axes>"
      ]
     },
     "metadata": {
      "needs_background": "light"
     },
     "output_type": "display_data"
    },
    {
     "data": {
      "image/png": "[encoded data removed]",
      "text/plain": [
       "<Figure size 432x288 with 2 Axes>"
      ]
     },
     "metadata": {
      "needs_background": "light"
     },
     "output_type": "display_data"
    }
   ],
   "source": [
    "plot_2d_normal(np.array([0., 0.]),cov1,multivariate_gaussian)\n",
    "plot_2d_normal(np.array([0., 0.]),cov2,multivariate_gaussian)"
   ]
  },
  {
   "cell_type": "markdown",
   "metadata": {},
   "source": [
    "Covariance matrices:\n",
    "\n",
    "1. $ \\Big( \\begin{bmatrix}\n",
    "1 & 0.8 \\\\\n",
    "0.8 & 1 \n",
    "\\end{bmatrix}\\Big) $\n",
    "2. $ \\Big( \\begin{bmatrix}\n",
    "1 & 0 \\\\\n",
    "0 & 1 \n",
    "\\end{bmatrix}\\Big) $\n",
    "3. $ \\Big( \\begin{bmatrix}\n",
    "1 & 0.8 \\\\\n",
    "0.8 & 3 \n",
    "\\end{bmatrix}\\Big) $\n",
    "4. $ \\Big( \\begin{bmatrix}\n",
    "1 & 0 \\\\\n",
    "0 & 3.5 \n",
    "\\end{bmatrix}\\Big) $\n",
    "5. $ \\Big( \\begin{bmatrix}\n",
    "3 & 0.8 \\\\\n",
    "0.8 & 1 \n",
    "\\end{bmatrix}\\Big) $\n",
    "6. $ \\Big( \\begin{bmatrix}\n",
    "1 & -1 \\\\\n",
    "-1 & 3 \n",
    "\\end{bmatrix}\\Big) $\n",
    "7. $ \\Big( \\begin{bmatrix}\n",
    "3 & -1 \\\\\n",
    "-1 & 1 \n",
    "\\end{bmatrix}\\Big) $\n",
    "8. $ \\Big( \\begin{bmatrix}\n",
    "1 & -1.5 \\\\\n",
    "-1.5 & 3 \n",
    "\\end{bmatrix}\\Big) $\n"
   ]
  },
  {
   "cell_type": "markdown",
   "metadata": {},
   "source": [
    "which image corresponds to which covariance matrix? (hint: use the function implemented above to visualize the different multivariate distributions):\n",
    "\n",
    "1 - f\n",
    "\n",
    "2 - a\n",
    "\n",
    "3 - h\n",
    "\n",
    "4 - b\n",
    "\n",
    "5 - g\n",
    "\n",
    "6 - d\n",
    "\n",
    "7 - c\n",
    "\n",
    "8 - e\n"
   ]
  },
  {
   "cell_type": "markdown",
   "metadata": {},
   "source": [
    "## Exercise 2 --  EMD and KL Divergence (2 Points)\n"
   ]
  },
  {
   "cell_type": "markdown",
   "metadata": {},
   "source": [
    "- Suppose we have two discrete distributions $P$ and $Q$ with the following probability mass functions:"
   ]
  },
  {
   "cell_type": "code",
   "execution_count": 441,
   "metadata": {},
   "outputs": [],
   "source": [
    "P = np.array([4,2,1,5,8,2,3,1,2,2])/30.\n",
    "Q = np.array([1,8,3,6,4,2,1,3,1,1])/30."
   ]
  },
  {
   "cell_type": "markdown",
   "metadata": {},
   "source": [
    "#### 2.1 write the functions `EMD` and `KL_div` which receive as input two discrete distributions and compute the EMD and the KL divergence between the two (see course slides)."
   ]
  },
  {
   "cell_type": "code",
   "execution_count": 442,
   "metadata": {},
   "outputs": [],
   "source": [
    "#KL Divergence implementation\n",
    "def KL_div(P, Q):\n",
    "    #source: https://gist.github.com/swayson/86c296aa354a555536e6765bbe726ff7\n",
    "    kl_div = np.sum(np.where(P != 0, P * np.log(P / Q), 0))\n",
    "    \n",
    "    # kl_div =np.sum(P*np.log(P/Q))\n",
    "    return kl_div "
   ]
  },
  {
   "cell_type": "code",
   "execution_count": 683,
   "metadata": {},
   "outputs": [],
   "source": [
    "#EMD implementation\n",
    "def emd(P,Q):\n",
    "    \n",
    "    #applied from lecture slides\n",
    "    M = np.append(np.array([0]),P-Q)\n",
    "    for i in range(1,len(M)):\n",
    "        M[i]=M[i]+M[i-1]\n",
    "    \n",
    "    emd_dis= np.sum(np.absolute(M))\n",
    "    \n",
    "        \n",
    "    return emd_dis"
   ]
  },
  {
   "cell_type": "code",
   "execution_count": 684,
   "metadata": {},
   "outputs": [
    {
     "name": "stdout",
     "output_type": "stream",
     "text": [
      "0.8000000000000002\n"
     ]
    }
   ],
   "source": [
    "print(emd(P,Q))"
   ]
  },
  {
   "cell_type": "code",
   "execution_count": 685,
   "metadata": {},
   "outputs": [
    {
     "name": "stdout",
     "output_type": "stream",
     "text": [
      "0.013333333333333334\n"
     ]
    }
   ],
   "source": [
    "print(scipy.stats.wasserstein_distance(P,Q))"
   ]
  },
  {
   "cell_type": "code",
   "execution_count": 686,
   "metadata": {},
   "outputs": [
    {
     "name": "stdout",
     "output_type": "stream",
     "text": [
      "0.37591197978858204\n"
     ]
    }
   ],
   "source": [
    "print(KL_div(P,Q))"
   ]
  },
  {
   "cell_type": "code",
   "execution_count": 687,
   "metadata": {},
   "outputs": [
    {
     "name": "stdout",
     "output_type": "stream",
     "text": [
      "0.3759119797885823\n"
     ]
    }
   ],
   "source": [
    "print(scipy.stats.entropy(P,Q))"
   ]
  },
  {
   "cell_type": "markdown",
   "metadata": {},
   "source": [
    "### Exercise 3 -- t-student test (4 points)"
   ]
  },
  {
   "cell_type": "markdown",
   "metadata": {
    "lines_to_next_cell": 2
   },
   "source": [
    "Assume you obtain three different samples coming from three normal distributions:\n",
    "\n",
    "$P_a \\sim X_a, P_b \\sim X_b,P_c \\sim X_c$.\n",
    "\n",
    "\n",
    "We will perform a two-sample test to compare if the mean between pairs of samples is the same or not. This can be done with the $t$ statistic. We further more assume we have the same number of samples from each sample $N= N_a = N_b = N_c$:\n",
    "\n",
    "$ t = \\dfrac{\\bar{x_a} - \\bar{x_a}}\n",
    "          {s\\sqrt{\\dfrac{2}{N}}} $\n",
    "\n",
    "where the $s = \\sqrt{\\dfrac{(N-1)({s_a}^2 + {s_b}^2)}{2N-2}}$ and $s_a$ and $s_b$ are the sample variances.\n",
    "\n",
    "Our goal is to use this test to see in which of the following cases we can identify wheter 2 samples have the same mean or not.\n"
   ]
  },
  {
   "cell_type": "markdown",
   "metadata": {},
   "source": [
    "#### 3.1. write down the null-hypothesis that we assume to use the t-statistic (1 point)"
   ]
  },
  {
   "cell_type": "markdown",
   "metadata": {},
   "source": [
    "H0 = mean_1 == mean_2"
   ]
  },
  {
   "cell_type": "markdown",
   "metadata": {},
   "source": [
    "we will rely on the `np.random.normal` function to create a function that returns $N$ samples given a $\\mu$ and $\\sigma$. "
   ]
  },
  {
   "cell_type": "code",
   "execution_count": 692,
   "metadata": {},
   "outputs": [],
   "source": [
    "def get_samples(N):\n",
    "    X1 = np.random.normal(1,1,N)\n",
    "    X2 = np.random.normal(1.25,1,N)\n",
    "    X3 = np.random.normal(2.,1,N)\n",
    "    \n",
    "    return (X1,X2,X3)"
   ]
  },
  {
   "cell_type": "code",
   "execution_count": 693,
   "metadata": {},
   "outputs": [],
   "source": [
    "Xa, Xb, Xc = get_samples(N=10)"
   ]
  },
  {
   "cell_type": "markdown",
   "metadata": {},
   "source": [
    "#### 3.2 Complete the `compute_t_statistic` function:"
   ]
  },
  {
   "cell_type": "code",
   "execution_count": 694,
   "metadata": {},
   "outputs": [],
   "source": [
    "def compute_t_statistic(x1,x2):\n",
    "    \n",
    "    n = x1.shape[0]\n",
    "    assert x1.shape[0] == x2.shape[0]\n",
    "    # compute sample mean and variances\n",
    "\n",
    "    # source: https://machinelearningmastery.com/how-to-code-the-students-t-test-from-scratch-in-python/\n",
    "    mean_1 , mean_2 = np.mean(x1) , np.mean(x2)\n",
    "    se1, se2 = scipy.stats.sem(x1), scipy.stats.sem(x2)\n",
    "    sed = np.sqrt(se1**2.0 + se2**2.0)\n",
    "    t = (mean_1 - mean_2) / sed\n",
    "    \n",
    "    # this code below does same calculation according to the formula from above and it gives constantly huge differences\n",
    "    # compared to the results of function scipy.stats.ttest_ind()\n",
    "    #var_1 = scipy.stats.sem(x1)\n",
    "    #var_2 = scipy.stats.sem(x2)\n",
    "    #N_1 = len(x1)\n",
    "    #N_2 = len(x2)\n",
    "    #N = N_1 + N_2 - 2\n",
    "    #sig = np.sqrt(((N_1-1)*(var_1**2) + (N_2-1)*(var_2**2))/N)\n",
    "    #t = (mean_1-mean_2)/(sig*np.sqrt(1/N_1 + 1/N_2))\n",
    "    \n",
    "    return t\n",
    "    "
   ]
  },
  {
   "cell_type": "code",
   "execution_count": 695,
   "metadata": {},
   "outputs": [],
   "source": [
    "def t_test_means(X1,X2):\n",
    "    # source: https://stackoverflow.com/questions/15984221/how-to-perform-two-sample-one-tailed-t-test-with-numpy-scipy\n",
    "    t = compute_t_statistic(X1,X2)\n",
    "    p = 1 - scipy.stats.t.cdf(np.abs(t),len(X1)+len(X2)-2) # p-value --- yout might want to use scipy.stats.t, and remember to take into account both tails...\n",
    "    \n",
    "    return t, p*2\n"
   ]
  },
  {
   "cell_type": "markdown",
   "metadata": {},
   "source": [
    "Now we can use `t_test_means` to compute the comparison between each pair: \n",
    "\n",
    "A vs B, A vs C, B vs C"
   ]
  },
  {
   "cell_type": "code",
   "execution_count": 696,
   "metadata": {},
   "outputs": [
    {
     "name": "stdout",
     "output_type": "stream",
     "text": [
      "t-statistic: -1.691, p-value:0.11 \n"
     ]
    }
   ],
   "source": [
    "t, p = t_test_means(Xb,Xa)\n",
    "print(f't-statistic: {t:.3f}, p-value:{p:.2} ')"
   ]
  },
  {
   "cell_type": "code",
   "execution_count": 697,
   "metadata": {},
   "outputs": [
    {
     "name": "stdout",
     "output_type": "stream",
     "text": [
      "t-statistic: -0.696, p-value:0.5 \n"
     ]
    }
   ],
   "source": [
    "t, p = t_test_means(Xa,Xc)\n",
    "print(f't-statistic: {t:.3f}, p-value:{p:.2} ')"
   ]
  },
  {
   "cell_type": "code",
   "execution_count": 698,
   "metadata": {},
   "outputs": [
    {
     "name": "stdout",
     "output_type": "stream",
     "text": [
      "t-statistic: -2.086, p-value:0.051 \n"
     ]
    }
   ],
   "source": [
    "t, p = t_test_means(Xb,Xc)\n",
    "print(f't-statistic: {t:.3f}, p-value:{p:.2} ')"
   ]
  },
  {
   "cell_type": "code",
   "execution_count": 699,
   "metadata": {},
   "outputs": [
    {
     "name": "stdout",
     "output_type": "stream",
     "text": [
      "t-statistic: -2.086, p-value:0.051 \n"
     ]
    }
   ],
   "source": [
    "## you can check the results of your implemenetation with the following scipy function\n",
    "t, p = scipy.stats.ttest_ind(Xb,Xc)\n",
    "print(f't-statistic: {t:.3f}, p-value:{p:.2} ')"
   ]
  },
  {
   "cell_type": "markdown",
   "metadata": {},
   "source": [
    "#### 3.3 Now test different sample sizes and see how many samples do we need for the test to distinguish between the different pairs? which one is the easiest to distinguish? which the hardest? \n",
    "hint: use the plot to support your analysis"
   ]
  },
  {
   "cell_type": "code",
   "execution_count": 674,
   "metadata": {},
   "outputs": [],
   "source": [
    "#### Answer: A-B is the hardest and A-C the easiest because in A-B we generally need more samples to have a smaller p-value \n",
    "#compared to the rest"
   ]
  },
  {
   "cell_type": "code",
   "execution_count": 700,
   "metadata": {},
   "outputs": [],
   "source": [
    "n_list = [1e1,5e1,1e2,5e2,1e3,5e3,1e4,5e4,1e5,5e5,1e6]\n",
    "results = np.ones((3,len(n_list)))\n",
    "\n",
    "for id_, n in enumerate(n_list):\n",
    "    n = int(n)\n",
    "    Xa, Xb, Xc = get_samples(N=n)\n",
    "    \n",
    "    _, p = t_test_means(Xa,Xb)\n",
    "    results[0,id_] = p\n",
    "    \n",
    "    _, p = t_test_means(Xa,Xc)\n",
    "    results[1,id_] = p\n",
    "    _, p = t_test_means(Xc,Xb)\n",
    "    results[2,id_] = p\n"
   ]
  },
  {
   "cell_type": "code",
   "execution_count": 701,
   "metadata": {},
   "outputs": [
    {
     "data": {
      "text/plain": [
       "Text(0,0.5,'p-value')"
      ]
     },
     "execution_count": 701,
     "metadata": {},
     "output_type": "execute_result"
    },
    {
     "data": {
      "image/png": "[encoded data removed]",
      "text/plain": [
       "<Figure size 432x288 with 1 Axes>"
      ]
     },
     "metadata": {
      "needs_background": "light"
     },
     "output_type": "display_data"
    }
   ],
   "source": [
    "fig, ax = plt.subplots()\n",
    "#log_p_values = np.log(results+1e-12)\n",
    "log_p_values = results\n",
    "ax.plot(n_list,log_p_values[0], label='A-B')\n",
    "ax.plot(n_list,log_p_values[1], label='A-C')\n",
    "ax.plot(n_list,log_p_values[2], label='B-C')\n",
    "ax.set_yscale('log')\n",
    "ax.set_xscale('log')\n",
    "ax.legend()\n",
    "ax.set_xlabel(\"# samples\")\n",
    "ax.set_ylabel(\"p-value\")"
   ]
  },
  {
   "cell_type": "code",
   "execution_count": null,
   "metadata": {},
   "outputs": [],
   "source": [
    "#### Answer: A-B is the hardest and A-C the easiest because in A-B we generally need more samples to have a smaller p-value \n",
    "#compared to the rest"
   ]
  },
  {
   "cell_type": "code",
   "execution_count": null,
   "metadata": {},
   "outputs": [],
   "source": []
  }
 ],
 "metadata": {
  "kernelspec": {
   "display_name": "Python 3",
   "language": "python",
   "name": "python3"
  },
  "language_info": {
   "codemirror_mode": {
    "name": "ipython",
    "version": 3
   },
   "file_extension": ".py",
   "mimetype": "text/x-python",
   "name": "python",
   "nbconvert_exporter": "python",
   "pygments_lexer": "ipython3",
   "version": "3.7.0"
  }
 },
 "nbformat": 4,
 "nbformat_minor": 4
}
