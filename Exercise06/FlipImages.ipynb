{
 "cells": [
  {
   "cell_type": "code",
   "execution_count": 24,
   "metadata": {},
   "outputs": [],
   "source": [
    "import cv2\n",
    "import os"
   ]
  },
  {
   "cell_type": "code",
   "execution_count": 29,
   "metadata": {},
   "outputs": [],
   "source": [
    "originalImage = cv2.imread('cats_vs_dogs/cats_vs_dogs/cat.0.jpg')\n",
    "path = 'cats_vs_dogs/cats_vs_dogs' \n",
    "outPath = 'cats_vs_dogs/flipped' \n",
    "train_files = os.listdir(path)"
   ]
  },
  {
   "cell_type": "code",
   "execution_count": 30,
   "metadata": {},
   "outputs": [
    {
     "name": "stdout",
     "output_type": "stream",
     "text": [
      "cat.0.jpg\n"
     ]
    }
   ],
   "source": [
    "print(train_files[0])"
   ]
  },
  {
   "cell_type": "code",
   "execution_count": 31,
   "metadata": {},
   "outputs": [],
   "source": [
    "dog_count = 20000\n",
    "cat_count = 20000"
   ]
  },
  {
   "cell_type": "code",
   "execution_count": 33,
   "metadata": {},
   "outputs": [
    {
     "name": "stdout",
     "output_type": "stream",
     "text": [
      "29377 29376\n"
     ]
    }
   ],
   "source": [
    "for filename in train_files:\n",
    "    if 'dog' in filename:\n",
    "        dog_count+= 1\n",
    "    elif 'cat' in filename:\n",
    "        cat_count+= 1\n",
    "    \n",
    "    originalImage = cv2.imread(os.path.join(path, filename))\n",
    "    #input_path = os.path.join(path, filename)\n",
    "    flipHorizontal = cv2.flip(originalImage, 1)\n",
    "    fullpath = os.path.join(outPath, 'rotated_'+filename)\n",
    "    cv2.imwrite(fullpath, flipHorizontal)\n",
    "\n",
    "print(cat_count, dog_count)"
   ]
  },
  {
   "cell_type": "code",
   "execution_count": null,
   "metadata": {},
   "outputs": [],
   "source": [
    "from scipy import ndimage, misc\n",
    "import numpy as np\n",
    "import os\n",
    "import cv2\n",
    "\n",
    "def main():\n",
    "    outPath = \"C:\\Miniconda\\envs\\..\"\n",
    "    path = \"C:\\Miniconda\\envs\\out\\..\"\n",
    "\n",
    "    # iterate through the names of contents of the folder\n",
    "    for image_path in os.listdir(path):\n",
    "\n",
    "        # create the full input path and read the file\n",
    "        input_path = os.path.join(path, image_path)\n",
    "        image_to_rotate = ndimage.imread(input_path)\n",
    "\n",
    "        # rotate the image\n",
    "        rotated = ndimage.rotate(image_to_rotate, 45)\n",
    "\n",
    "        # create full output path, 'example.jpg' \n",
    "        # becomes 'rotate_example.jpg', save the file to disk\n",
    "        \n",
    "\n",
    "if __name__ == '__main__':\n",
    "    main()"
   ]
  }
 ],
 "metadata": {
  "kernelspec": {
   "display_name": "Python 3",
   "language": "python",
   "name": "python3"
  },
  "language_info": {
   "codemirror_mode": {
    "name": "ipython",
    "version": 3
   },
   "file_extension": ".py",
   "mimetype": "text/x-python",
   "name": "python",
   "nbconvert_exporter": "python",
   "pygments_lexer": "ipython3",
   "version": "3.7.3"
  }
 },
 "nbformat": 4,
 "nbformat_minor": 2
}
